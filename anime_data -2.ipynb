{
 "cells": [
  {
   "cell_type": "code",
   "execution_count": 26,
   "id": "c746b9d6-9d19-4f10-bfcb-844e142e0307",
   "metadata": {},
   "outputs": [],
   "source": [
    "import pandas as pd\n",
    "import numpy as np"
   ]
  },
  {
   "cell_type": "code",
   "execution_count": 27,
   "id": "2370a818-f498-4f89-a424-82f9ce004286",
   "metadata": {},
   "outputs": [],
   "source": [
    "df = pd.read_csv(r\"anime.csv\")         #to load the dataset"
   ]
  },
  {
   "cell_type": "code",
   "execution_count": 28,
   "id": "c96f0ef6-c9f9-463f-b631-9f953d79e133",
   "metadata": {},
   "outputs": [
    {
     "data": {
      "text/html": [
       "<div>\n",
       "<style scoped>\n",
       "    .dataframe tbody tr th:only-of-type {\n",
       "        vertical-align: middle;\n",
       "    }\n",
       "\n",
       "    .dataframe tbody tr th {\n",
       "        vertical-align: top;\n",
       "    }\n",
       "\n",
       "    .dataframe thead th {\n",
       "        text-align: right;\n",
       "    }\n",
       "</style>\n",
       "<table border=\"1\" class=\"dataframe\">\n",
       "  <thead>\n",
       "    <tr style=\"text-align: right;\">\n",
       "      <th></th>\n",
       "      <th>Rank</th>\n",
       "      <th>Title</th>\n",
       "      <th>Score</th>\n",
       "    </tr>\n",
       "  </thead>\n",
       "  <tbody>\n",
       "    <tr>\n",
       "      <th>0</th>\n",
       "      <td>1</td>\n",
       "      <td>Fullmetal Alchemist: BrotherhoodTV (64 eps)Apr...</td>\n",
       "      <td>9.10</td>\n",
       "    </tr>\n",
       "    <tr>\n",
       "      <th>1</th>\n",
       "      <td>2</td>\n",
       "      <td>Steins;GateTV (24 eps)Apr 2011 - Sep 20112,473...</td>\n",
       "      <td>9.07</td>\n",
       "    </tr>\n",
       "    <tr>\n",
       "      <th>2</th>\n",
       "      <td>3</td>\n",
       "      <td>Bleach: Sennen Kessen-henTV (13 eps)Oct 2022 -...</td>\n",
       "      <td>9.06</td>\n",
       "    </tr>\n",
       "    <tr>\n",
       "      <th>3</th>\n",
       "      <td>4</td>\n",
       "      <td>Gintama°TV (51 eps)Apr 2015 - Mar 2016605,113 ...</td>\n",
       "      <td>9.06</td>\n",
       "    </tr>\n",
       "    <tr>\n",
       "      <th>4</th>\n",
       "      <td>5</td>\n",
       "      <td>Shingeki no Kyojin Season 3 Part 2TV (10 eps)A...</td>\n",
       "      <td>9.05</td>\n",
       "    </tr>\n",
       "  </tbody>\n",
       "</table>\n",
       "</div>"
      ],
      "text/plain": [
       "   Rank                                              Title  Score\n",
       "0     1  Fullmetal Alchemist: BrotherhoodTV (64 eps)Apr...   9.10\n",
       "1     2  Steins;GateTV (24 eps)Apr 2011 - Sep 20112,473...   9.07\n",
       "2     3  Bleach: Sennen Kessen-henTV (13 eps)Oct 2022 -...   9.06\n",
       "3     4  Gintama°TV (51 eps)Apr 2015 - Mar 2016605,113 ...   9.06\n",
       "4     5  Shingeki no Kyojin Season 3 Part 2TV (10 eps)A...   9.05"
      ]
     },
     "execution_count": 28,
     "metadata": {},
     "output_type": "execute_result"
    }
   ],
   "source": [
    "df.head()    #to view the top 5 rows of the dataset"
   ]
  },
  {
   "cell_type": "code",
   "execution_count": 29,
   "id": "5fd23fac-510a-4ede-b2af-b172984e73a8",
   "metadata": {},
   "outputs": [
    {
     "data": {
      "text/plain": [
       "'Bleach: Sennen Kessen-henTV (13 eps)Oct 2022 - Dec 2022474,138 members'"
      ]
     },
     "execution_count": 29,
     "metadata": {},
     "output_type": "execute_result"
    }
   ],
   "source": [
    "df.loc[2][\"Title\"]    #to get the exact info which is written in title column"
   ]
  },
  {
   "cell_type": "markdown",
   "id": "c6820427-004f-4ec2-8ced-4de4fd8e0bb3",
   "metadata": {},
   "source": [
    "## We can see that title is quite messy. here we can make the new columns acoordingly and extract the data from the title column"
   ]
  },
  {
   "cell_type": "code",
   "execution_count": 30,
   "id": "bd1ca64f-9550-4a1a-aade-e25d0325cc4b",
   "metadata": {},
   "outputs": [],
   "source": [
    "def extract_episodes(txt):\n",
    "    check = False\n",
    "    data = \"\"\n",
    "    for i in txt:\n",
    "        if i == \")\":\n",
    "            check = False\n",
    "            break\n",
    "        if check == True:\n",
    "            data+=i\n",
    "        if i == \"(\":\n",
    "            check = True\n",
    "    return data"
   ]
  },
  {
   "cell_type": "code",
   "execution_count": 31,
   "id": "a206518e-83a3-485b-a06c-c432b38d1558",
   "metadata": {},
   "outputs": [],
   "source": [
    "df[\"Episodes\"] = df[\"Title\"].apply(extract_episodes)               #get the episodes"
   ]
  },
  {
   "cell_type": "code",
   "execution_count": 32,
   "id": "06c23dbb-eb60-401d-b866-f0c55a6668c7",
   "metadata": {},
   "outputs": [],
   "source": [
    "df[\"Episodes\"] =  df[\"Episodes\"].str.replace(\" eps\", \"\")           #to get the number value to apply aggregate functions"
   ]
  },
  {
   "cell_type": "code",
   "execution_count": 33,
   "id": "31e7d1ca-d88f-4704-9f5d-940e99a26cd8",
   "metadata": {},
   "outputs": [
    {
     "name": "stdout",
     "output_type": "stream",
     "text": [
      "<class 'pandas.core.series.Series'>\n"
     ]
    }
   ],
   "source": [
    "print(type(df[\"Episodes\"]))           #to check the data type "
   ]
  },
  {
   "cell_type": "code",
   "execution_count": 34,
   "id": "b526dad4-04c3-4c0e-b832-b40245a0f6b8",
   "metadata": {},
   "outputs": [],
   "source": [
    "df[\"Episodes\"] = df[\"Episodes\"].astype(int)       #change data type str to int"
   ]
  },
  {
   "cell_type": "code",
   "execution_count": 35,
   "id": "bcbc7860-8923-4e54-ac6e-857dfb959253",
   "metadata": {},
   "outputs": [
    {
     "data": {
      "text/html": [
       "<div>\n",
       "<style scoped>\n",
       "    .dataframe tbody tr th:only-of-type {\n",
       "        vertical-align: middle;\n",
       "    }\n",
       "\n",
       "    .dataframe tbody tr th {\n",
       "        vertical-align: top;\n",
       "    }\n",
       "\n",
       "    .dataframe thead th {\n",
       "        text-align: right;\n",
       "    }\n",
       "</style>\n",
       "<table border=\"1\" class=\"dataframe\">\n",
       "  <thead>\n",
       "    <tr style=\"text-align: right;\">\n",
       "      <th></th>\n",
       "      <th>Rank</th>\n",
       "      <th>Title</th>\n",
       "      <th>Score</th>\n",
       "      <th>Episodes</th>\n",
       "    </tr>\n",
       "  </thead>\n",
       "  <tbody>\n",
       "    <tr>\n",
       "      <th>0</th>\n",
       "      <td>1</td>\n",
       "      <td>Fullmetal Alchemist: BrotherhoodTV (64 eps)Apr...</td>\n",
       "      <td>9.10</td>\n",
       "      <td>64</td>\n",
       "    </tr>\n",
       "    <tr>\n",
       "      <th>1</th>\n",
       "      <td>2</td>\n",
       "      <td>Steins;GateTV (24 eps)Apr 2011 - Sep 20112,473...</td>\n",
       "      <td>9.07</td>\n",
       "      <td>24</td>\n",
       "    </tr>\n",
       "    <tr>\n",
       "      <th>2</th>\n",
       "      <td>3</td>\n",
       "      <td>Bleach: Sennen Kessen-henTV (13 eps)Oct 2022 -...</td>\n",
       "      <td>9.06</td>\n",
       "      <td>13</td>\n",
       "    </tr>\n",
       "    <tr>\n",
       "      <th>3</th>\n",
       "      <td>4</td>\n",
       "      <td>Gintama°TV (51 eps)Apr 2015 - Mar 2016605,113 ...</td>\n",
       "      <td>9.06</td>\n",
       "      <td>51</td>\n",
       "    </tr>\n",
       "    <tr>\n",
       "      <th>4</th>\n",
       "      <td>5</td>\n",
       "      <td>Shingeki no Kyojin Season 3 Part 2TV (10 eps)A...</td>\n",
       "      <td>9.05</td>\n",
       "      <td>10</td>\n",
       "    </tr>\n",
       "  </tbody>\n",
       "</table>\n",
       "</div>"
      ],
      "text/plain": [
       "   Rank                                              Title  Score  Episodes\n",
       "0     1  Fullmetal Alchemist: BrotherhoodTV (64 eps)Apr...   9.10        64\n",
       "1     2  Steins;GateTV (24 eps)Apr 2011 - Sep 20112,473...   9.07        24\n",
       "2     3  Bleach: Sennen Kessen-henTV (13 eps)Oct 2022 -...   9.06        13\n",
       "3     4  Gintama°TV (51 eps)Apr 2015 - Mar 2016605,113 ...   9.06        51\n",
       "4     5  Shingeki no Kyojin Season 3 Part 2TV (10 eps)A...   9.05        10"
      ]
     },
     "execution_count": 35,
     "metadata": {},
     "output_type": "execute_result"
    }
   ],
   "source": [
    "df.head()"
   ]
  },
  {
   "cell_type": "code",
   "execution_count": 36,
   "id": "53066495-797f-4d28-ac59-2185dab420e9",
   "metadata": {},
   "outputs": [
    {
     "data": {
      "text/plain": [
       "'Fullmetal Alchemist: BrotherhoodTV (64 eps)Apr 2009 - Jul 20103,218,472 membersManga StoreVolume 1€4.58Preview'"
      ]
     },
     "execution_count": 36,
     "metadata": {},
     "output_type": "execute_result"
    }
   ],
   "source": [
    "df.iloc[0,1]"
   ]
  },
  {
   "cell_type": "code",
   "execution_count": 37,
   "id": "6f75efea-33dd-4b2b-8fc8-d167b88bf991",
   "metadata": {},
   "outputs": [],
   "source": [
    "def etract_time(txt):\n",
    "    data = \"\"\n",
    "    check = False\n",
    "    for i in range(len(txt)):\n",
    "        if txt[i] == \")\":\n",
    "            for j in range(i+1, i+20):\n",
    "                data+=txt[j]\n",
    "            return data\n",
    "            \n",
    "    "
   ]
  },
  {
   "cell_type": "code",
   "execution_count": 38,
   "id": "81193c73-5e4f-479d-bfea-e7e3bfdd59d2",
   "metadata": {},
   "outputs": [],
   "source": [
    "df[\"Airing_period\"] = df[\"Title\"].apply(etract_time)    #to get the airing period of the anime \n"
   ]
  },
  {
   "cell_type": "code",
   "execution_count": 39,
   "id": "62fdb623-6dff-4ace-b8f6-da82138124a7",
   "metadata": {},
   "outputs": [
    {
     "data": {
      "text/html": [
       "<div>\n",
       "<style scoped>\n",
       "    .dataframe tbody tr th:only-of-type {\n",
       "        vertical-align: middle;\n",
       "    }\n",
       "\n",
       "    .dataframe tbody tr th {\n",
       "        vertical-align: top;\n",
       "    }\n",
       "\n",
       "    .dataframe thead th {\n",
       "        text-align: right;\n",
       "    }\n",
       "</style>\n",
       "<table border=\"1\" class=\"dataframe\">\n",
       "  <thead>\n",
       "    <tr style=\"text-align: right;\">\n",
       "      <th></th>\n",
       "      <th>Rank</th>\n",
       "      <th>Title</th>\n",
       "      <th>Score</th>\n",
       "      <th>Episodes</th>\n",
       "      <th>Airing_period</th>\n",
       "    </tr>\n",
       "  </thead>\n",
       "  <tbody>\n",
       "    <tr>\n",
       "      <th>0</th>\n",
       "      <td>1</td>\n",
       "      <td>Fullmetal Alchemist: BrotherhoodTV (64 eps)Apr...</td>\n",
       "      <td>9.10</td>\n",
       "      <td>64</td>\n",
       "      <td>Apr 2009 - Jul 2010</td>\n",
       "    </tr>\n",
       "    <tr>\n",
       "      <th>1</th>\n",
       "      <td>2</td>\n",
       "      <td>Steins;GateTV (24 eps)Apr 2011 - Sep 20112,473...</td>\n",
       "      <td>9.07</td>\n",
       "      <td>24</td>\n",
       "      <td>Apr 2011 - Sep 2011</td>\n",
       "    </tr>\n",
       "    <tr>\n",
       "      <th>2</th>\n",
       "      <td>3</td>\n",
       "      <td>Bleach: Sennen Kessen-henTV (13 eps)Oct 2022 -...</td>\n",
       "      <td>9.06</td>\n",
       "      <td>13</td>\n",
       "      <td>Oct 2022 - Dec 2022</td>\n",
       "    </tr>\n",
       "    <tr>\n",
       "      <th>3</th>\n",
       "      <td>4</td>\n",
       "      <td>Gintama°TV (51 eps)Apr 2015 - Mar 2016605,113 ...</td>\n",
       "      <td>9.06</td>\n",
       "      <td>51</td>\n",
       "      <td>Apr 2015 - Mar 2016</td>\n",
       "    </tr>\n",
       "    <tr>\n",
       "      <th>4</th>\n",
       "      <td>5</td>\n",
       "      <td>Shingeki no Kyojin Season 3 Part 2TV (10 eps)A...</td>\n",
       "      <td>9.05</td>\n",
       "      <td>10</td>\n",
       "      <td>Apr 2019 - Jul 2019</td>\n",
       "    </tr>\n",
       "  </tbody>\n",
       "</table>\n",
       "</div>"
      ],
      "text/plain": [
       "   Rank                                              Title  Score  Episodes  \\\n",
       "0     1  Fullmetal Alchemist: BrotherhoodTV (64 eps)Apr...   9.10        64   \n",
       "1     2  Steins;GateTV (24 eps)Apr 2011 - Sep 20112,473...   9.07        24   \n",
       "2     3  Bleach: Sennen Kessen-henTV (13 eps)Oct 2022 -...   9.06        13   \n",
       "3     4  Gintama°TV (51 eps)Apr 2015 - Mar 2016605,113 ...   9.06        51   \n",
       "4     5  Shingeki no Kyojin Season 3 Part 2TV (10 eps)A...   9.05        10   \n",
       "\n",
       "         Airing_period  \n",
       "0  Apr 2009 - Jul 2010  \n",
       "1  Apr 2011 - Sep 2011  \n",
       "2  Oct 2022 - Dec 2022  \n",
       "3  Apr 2015 - Mar 2016  \n",
       "4  Apr 2019 - Jul 2019  "
      ]
     },
     "execution_count": 39,
     "metadata": {},
     "output_type": "execute_result"
    }
   ],
   "source": [
    "df.head()"
   ]
  },
  {
   "cell_type": "code",
   "execution_count": 40,
   "id": "fa285653-858a-4e60-9730-8e4830d88186",
   "metadata": {},
   "outputs": [],
   "source": [
    "def title_name(txt):\n",
    "    check = False\n",
    "    data = \"\"\n",
    "    for i in txt:\n",
    "        if i == \"(\":\n",
    "            break\n",
    "        else:\n",
    "            data+=i\n",
    "    return data\n",
    "            \n",
    "        "
   ]
  },
  {
   "cell_type": "code",
   "execution_count": 41,
   "id": "5951e0f3-14f4-4967-a2ff-af7db37cf60a",
   "metadata": {},
   "outputs": [],
   "source": [
    "df[\"Anime Name\"] = df[\"Title\"].apply(title_name)"
   ]
  },
  {
   "cell_type": "code",
   "execution_count": 57,
   "id": "5d88d6ab-d143-4d85-b0d8-9e7cb0db1113",
   "metadata": {},
   "outputs": [
    {
     "data": {
      "text/html": [
       "<div>\n",
       "<style scoped>\n",
       "    .dataframe tbody tr th:only-of-type {\n",
       "        vertical-align: middle;\n",
       "    }\n",
       "\n",
       "    .dataframe tbody tr th {\n",
       "        vertical-align: top;\n",
       "    }\n",
       "\n",
       "    .dataframe thead th {\n",
       "        text-align: right;\n",
       "    }\n",
       "</style>\n",
       "<table border=\"1\" class=\"dataframe\">\n",
       "  <thead>\n",
       "    <tr style=\"text-align: right;\">\n",
       "      <th></th>\n",
       "      <th>Rank</th>\n",
       "      <th>Title</th>\n",
       "      <th>Score</th>\n",
       "      <th>Episodes</th>\n",
       "      <th>Airing_period</th>\n",
       "      <th>Anime Name</th>\n",
       "    </tr>\n",
       "  </thead>\n",
       "  <tbody>\n",
       "    <tr>\n",
       "      <th>0</th>\n",
       "      <td>1</td>\n",
       "      <td>Fullmetal Alchemist: BrotherhoodTV (64 eps)Apr...</td>\n",
       "      <td>9.10</td>\n",
       "      <td>64</td>\n",
       "      <td>Apr 2009 - Jul 2010</td>\n",
       "      <td>Fullmetal Alchemist: BrotherhoodTV</td>\n",
       "    </tr>\n",
       "    <tr>\n",
       "      <th>1</th>\n",
       "      <td>2</td>\n",
       "      <td>Steins;GateTV (24 eps)Apr 2011 - Sep 20112,473...</td>\n",
       "      <td>9.07</td>\n",
       "      <td>24</td>\n",
       "      <td>Apr 2011 - Sep 2011</td>\n",
       "      <td>Steins;GateTV</td>\n",
       "    </tr>\n",
       "    <tr>\n",
       "      <th>2</th>\n",
       "      <td>3</td>\n",
       "      <td>Bleach: Sennen Kessen-henTV (13 eps)Oct 2022 -...</td>\n",
       "      <td>9.06</td>\n",
       "      <td>13</td>\n",
       "      <td>Oct 2022 - Dec 2022</td>\n",
       "      <td>Bleach: Sennen Kessen-henTV</td>\n",
       "    </tr>\n",
       "    <tr>\n",
       "      <th>3</th>\n",
       "      <td>4</td>\n",
       "      <td>Gintama°TV (51 eps)Apr 2015 - Mar 2016605,113 ...</td>\n",
       "      <td>9.06</td>\n",
       "      <td>51</td>\n",
       "      <td>Apr 2015 - Mar 2016</td>\n",
       "      <td>Gintama°TV</td>\n",
       "    </tr>\n",
       "    <tr>\n",
       "      <th>4</th>\n",
       "      <td>5</td>\n",
       "      <td>Shingeki no Kyojin Season 3 Part 2TV (10 eps)A...</td>\n",
       "      <td>9.05</td>\n",
       "      <td>10</td>\n",
       "      <td>Apr 2019 - Jul 2019</td>\n",
       "      <td>Shingeki no Kyojin Season 3 Part 2TV</td>\n",
       "    </tr>\n",
       "  </tbody>\n",
       "</table>\n",
       "</div>"
      ],
      "text/plain": [
       "   Rank                                              Title  Score  Episodes  \\\n",
       "0     1  Fullmetal Alchemist: BrotherhoodTV (64 eps)Apr...   9.10        64   \n",
       "1     2  Steins;GateTV (24 eps)Apr 2011 - Sep 20112,473...   9.07        24   \n",
       "2     3  Bleach: Sennen Kessen-henTV (13 eps)Oct 2022 -...   9.06        13   \n",
       "3     4  Gintama°TV (51 eps)Apr 2015 - Mar 2016605,113 ...   9.06        51   \n",
       "4     5  Shingeki no Kyojin Season 3 Part 2TV (10 eps)A...   9.05        10   \n",
       "\n",
       "         Airing_period                             Anime Name  \n",
       "0  Apr 2009 - Jul 2010    Fullmetal Alchemist: BrotherhoodTV   \n",
       "1  Apr 2011 - Sep 2011                         Steins;GateTV   \n",
       "2  Oct 2022 - Dec 2022           Bleach: Sennen Kessen-henTV   \n",
       "3  Apr 2015 - Mar 2016                            Gintama°TV   \n",
       "4  Apr 2019 - Jul 2019  Shingeki no Kyojin Season 3 Part 2TV   "
      ]
     },
     "execution_count": 57,
     "metadata": {},
     "output_type": "execute_result"
    }
   ],
   "source": [
    "df.head()"
   ]
  },
  {
   "cell_type": "code",
   "execution_count": 43,
   "id": "70dc9acd-e8a5-4b1a-b07e-8854bdcc89e8",
   "metadata": {},
   "outputs": [
    {
     "data": {
      "text/plain": [
       "'Kaguya-sama wa Kokurasetai: Ultra RomanticTV (13 eps)Apr 2022 - Jun 2022851,445 members'"
      ]
     },
     "execution_count": 43,
     "metadata": {},
     "output_type": "execute_result"
    }
   ],
   "source": [
    "df.iloc[8,1]"
   ]
  },
  {
   "cell_type": "code",
   "execution_count": 44,
   "id": "55534387-08ba-4e9a-98de-c4d5bc7feef0",
   "metadata": {},
   "outputs": [],
   "source": [
    "def etract_time(txt):\n",
    "    data = \"\"\n",
    "    check = False\n",
    "    for i in range(len(txt)):\n",
    "        if txt[i] == \",\":\n",
    "            for j in range(i+1, i+12):\n",
    "                data+=txt[j]\n",
    "            return data\n",
    "            "
   ]
  },
  {
   "cell_type": "markdown",
   "id": "9bb07cd1-93f0-4812-8b87-01f9e681b1dc",
   "metadata": {},
   "source": [
    "\n",
    "# which anime has the highest score\n"
   ]
  },
  {
   "cell_type": "code",
   "execution_count": 45,
   "id": "a57eba51-7708-430a-8d5a-fcfbfaf35d26",
   "metadata": {},
   "outputs": [
    {
     "data": {
      "text/html": [
       "<div>\n",
       "<style scoped>\n",
       "    .dataframe tbody tr th:only-of-type {\n",
       "        vertical-align: middle;\n",
       "    }\n",
       "\n",
       "    .dataframe tbody tr th {\n",
       "        vertical-align: top;\n",
       "    }\n",
       "\n",
       "    .dataframe thead th {\n",
       "        text-align: right;\n",
       "    }\n",
       "</style>\n",
       "<table border=\"1\" class=\"dataframe\">\n",
       "  <thead>\n",
       "    <tr style=\"text-align: right;\">\n",
       "      <th></th>\n",
       "      <th>Rank</th>\n",
       "      <th>Title</th>\n",
       "      <th>Score</th>\n",
       "      <th>Episodes</th>\n",
       "      <th>Airing_period</th>\n",
       "      <th>Anime Name</th>\n",
       "    </tr>\n",
       "  </thead>\n",
       "  <tbody>\n",
       "    <tr>\n",
       "      <th>0</th>\n",
       "      <td>1</td>\n",
       "      <td>Fullmetal Alchemist: BrotherhoodTV (64 eps)Apr...</td>\n",
       "      <td>9.1</td>\n",
       "      <td>64</td>\n",
       "      <td>Apr 2009 - Jul 2010</td>\n",
       "      <td>Fullmetal Alchemist: BrotherhoodTV</td>\n",
       "    </tr>\n",
       "  </tbody>\n",
       "</table>\n",
       "</div>"
      ],
      "text/plain": [
       "   Rank                                              Title  Score  Episodes  \\\n",
       "0     1  Fullmetal Alchemist: BrotherhoodTV (64 eps)Apr...    9.1        64   \n",
       "\n",
       "         Airing_period                           Anime Name  \n",
       "0  Apr 2009 - Jul 2010  Fullmetal Alchemist: BrotherhoodTV   "
      ]
     },
     "execution_count": 45,
     "metadata": {},
     "output_type": "execute_result"
    }
   ],
   "source": [
    "df[df[\"Score\"] == df[\"Score\"].max()]"
   ]
  },
  {
   "cell_type": "markdown",
   "id": "8c289e2c-85f4-4c2a-b34d-08b949dbc9be",
   "metadata": {},
   "source": [
    "## top 5 scoring anime"
   ]
  },
  {
   "cell_type": "code",
   "execution_count": 46,
   "id": "1fa8e667-cdda-4e9c-9d67-b93f293bbccd",
   "metadata": {},
   "outputs": [
    {
     "data": {
      "text/html": [
       "<div>\n",
       "<style scoped>\n",
       "    .dataframe tbody tr th:only-of-type {\n",
       "        vertical-align: middle;\n",
       "    }\n",
       "\n",
       "    .dataframe tbody tr th {\n",
       "        vertical-align: top;\n",
       "    }\n",
       "\n",
       "    .dataframe thead th {\n",
       "        text-align: right;\n",
       "    }\n",
       "</style>\n",
       "<table border=\"1\" class=\"dataframe\">\n",
       "  <thead>\n",
       "    <tr style=\"text-align: right;\">\n",
       "      <th></th>\n",
       "      <th>Rank</th>\n",
       "      <th>Title</th>\n",
       "      <th>Score</th>\n",
       "      <th>Episodes</th>\n",
       "      <th>Airing_period</th>\n",
       "      <th>Anime Name</th>\n",
       "    </tr>\n",
       "  </thead>\n",
       "  <tbody>\n",
       "    <tr>\n",
       "      <th>0</th>\n",
       "      <td>1</td>\n",
       "      <td>Fullmetal Alchemist: BrotherhoodTV (64 eps)Apr...</td>\n",
       "      <td>9.10</td>\n",
       "      <td>64</td>\n",
       "      <td>Apr 2009 - Jul 2010</td>\n",
       "      <td>Fullmetal Alchemist: BrotherhoodTV</td>\n",
       "    </tr>\n",
       "    <tr>\n",
       "      <th>1</th>\n",
       "      <td>2</td>\n",
       "      <td>Steins;GateTV (24 eps)Apr 2011 - Sep 20112,473...</td>\n",
       "      <td>9.07</td>\n",
       "      <td>24</td>\n",
       "      <td>Apr 2011 - Sep 2011</td>\n",
       "      <td>Steins;GateTV</td>\n",
       "    </tr>\n",
       "    <tr>\n",
       "      <th>2</th>\n",
       "      <td>3</td>\n",
       "      <td>Bleach: Sennen Kessen-henTV (13 eps)Oct 2022 -...</td>\n",
       "      <td>9.06</td>\n",
       "      <td>13</td>\n",
       "      <td>Oct 2022 - Dec 2022</td>\n",
       "      <td>Bleach: Sennen Kessen-henTV</td>\n",
       "    </tr>\n",
       "    <tr>\n",
       "      <th>3</th>\n",
       "      <td>4</td>\n",
       "      <td>Gintama°TV (51 eps)Apr 2015 - Mar 2016605,113 ...</td>\n",
       "      <td>9.06</td>\n",
       "      <td>51</td>\n",
       "      <td>Apr 2015 - Mar 2016</td>\n",
       "      <td>Gintama°TV</td>\n",
       "    </tr>\n",
       "    <tr>\n",
       "      <th>4</th>\n",
       "      <td>5</td>\n",
       "      <td>Shingeki no Kyojin Season 3 Part 2TV (10 eps)A...</td>\n",
       "      <td>9.05</td>\n",
       "      <td>10</td>\n",
       "      <td>Apr 2019 - Jul 2019</td>\n",
       "      <td>Shingeki no Kyojin Season 3 Part 2TV</td>\n",
       "    </tr>\n",
       "  </tbody>\n",
       "</table>\n",
       "</div>"
      ],
      "text/plain": [
       "   Rank                                              Title  Score  Episodes  \\\n",
       "0     1  Fullmetal Alchemist: BrotherhoodTV (64 eps)Apr...   9.10        64   \n",
       "1     2  Steins;GateTV (24 eps)Apr 2011 - Sep 20112,473...   9.07        24   \n",
       "2     3  Bleach: Sennen Kessen-henTV (13 eps)Oct 2022 -...   9.06        13   \n",
       "3     4  Gintama°TV (51 eps)Apr 2015 - Mar 2016605,113 ...   9.06        51   \n",
       "4     5  Shingeki no Kyojin Season 3 Part 2TV (10 eps)A...   9.05        10   \n",
       "\n",
       "         Airing_period                             Anime Name  \n",
       "0  Apr 2009 - Jul 2010    Fullmetal Alchemist: BrotherhoodTV   \n",
       "1  Apr 2011 - Sep 2011                         Steins;GateTV   \n",
       "2  Oct 2022 - Dec 2022           Bleach: Sennen Kessen-henTV   \n",
       "3  Apr 2015 - Mar 2016                            Gintama°TV   \n",
       "4  Apr 2019 - Jul 2019  Shingeki no Kyojin Season 3 Part 2TV   "
      ]
     },
     "execution_count": 46,
     "metadata": {},
     "output_type": "execute_result"
    }
   ],
   "source": [
    "df.head()                              #Score column is already in sorted form."
   ]
  },
  {
   "cell_type": "markdown",
   "id": "6a8679ae-7a71-4dc9-aaf8-d1714e0b5dd2",
   "metadata": {},
   "source": [
    "## which anime has the highest episode count"
   ]
  },
  {
   "cell_type": "code",
   "execution_count": 47,
   "id": "bbbfea41-2935-49b6-bf8e-bb75421abefc",
   "metadata": {},
   "outputs": [
    {
     "data": {
      "text/html": [
       "<div>\n",
       "<style scoped>\n",
       "    .dataframe tbody tr th:only-of-type {\n",
       "        vertical-align: middle;\n",
       "    }\n",
       "\n",
       "    .dataframe tbody tr th {\n",
       "        vertical-align: top;\n",
       "    }\n",
       "\n",
       "    .dataframe thead th {\n",
       "        text-align: right;\n",
       "    }\n",
       "</style>\n",
       "<table border=\"1\" class=\"dataframe\">\n",
       "  <thead>\n",
       "    <tr style=\"text-align: right;\">\n",
       "      <th></th>\n",
       "      <th>Rank</th>\n",
       "      <th>Title</th>\n",
       "      <th>Score</th>\n",
       "      <th>Episodes</th>\n",
       "      <th>Airing_period</th>\n",
       "      <th>Anime Name</th>\n",
       "    </tr>\n",
       "  </thead>\n",
       "  <tbody>\n",
       "    <tr>\n",
       "      <th>15</th>\n",
       "      <td>16</td>\n",
       "      <td>GintamaTV (201 eps)Apr 2006 - Mar 20101,034,41...</td>\n",
       "      <td>8.94</td>\n",
       "      <td>201</td>\n",
       "      <td>Apr 2006 - Mar 2010</td>\n",
       "      <td>GintamaTV</td>\n",
       "    </tr>\n",
       "  </tbody>\n",
       "</table>\n",
       "</div>"
      ],
      "text/plain": [
       "    Rank                                              Title  Score  Episodes  \\\n",
       "15    16  GintamaTV (201 eps)Apr 2006 - Mar 20101,034,41...   8.94       201   \n",
       "\n",
       "          Airing_period  Anime Name  \n",
       "15  Apr 2006 - Mar 2010  GintamaTV   "
      ]
     },
     "execution_count": 47,
     "metadata": {},
     "output_type": "execute_result"
    }
   ],
   "source": [
    "df[df[\"Episodes\"] == df[\"Episodes\"].max()]        #this anime is also the longest running anime"
   ]
  },
  {
   "cell_type": "markdown",
   "id": "4ea6abdb-0753-4532-a4f8-b6f4c1824a33",
   "metadata": {},
   "source": [
    "## Animes with top five episode count"
   ]
  },
  {
   "cell_type": "code",
   "execution_count": 54,
   "id": "de314d74-4e6c-42d4-9665-582e29478455",
   "metadata": {},
   "outputs": [],
   "source": [
    "df_sorted = df.sort_values(by='Episodes')"
   ]
  },
  {
   "cell_type": "code",
   "execution_count": 55,
   "id": "dbf3281a-da2c-40d6-bddf-2f665a940678",
   "metadata": {},
   "outputs": [
    {
     "data": {
      "text/html": [
       "<div>\n",
       "<style scoped>\n",
       "    .dataframe tbody tr th:only-of-type {\n",
       "        vertical-align: middle;\n",
       "    }\n",
       "\n",
       "    .dataframe tbody tr th {\n",
       "        vertical-align: top;\n",
       "    }\n",
       "\n",
       "    .dataframe thead th {\n",
       "        text-align: right;\n",
       "    }\n",
       "</style>\n",
       "<table border=\"1\" class=\"dataframe\">\n",
       "  <thead>\n",
       "    <tr style=\"text-align: right;\">\n",
       "      <th></th>\n",
       "      <th>Rank</th>\n",
       "      <th>Title</th>\n",
       "      <th>Score</th>\n",
       "      <th>Episodes</th>\n",
       "      <th>Airing_period</th>\n",
       "      <th>Anime Name</th>\n",
       "    </tr>\n",
       "  </thead>\n",
       "  <tbody>\n",
       "    <tr>\n",
       "      <th>24</th>\n",
       "      <td>25</td>\n",
       "      <td>MonsterTV (74 eps)Apr 2004 - Sep 20051,041,081...</td>\n",
       "      <td>8.87</td>\n",
       "      <td>74</td>\n",
       "      <td>Apr 2004 - Sep 2005</td>\n",
       "      <td>MonsterTV</td>\n",
       "    </tr>\n",
       "    <tr>\n",
       "      <th>42</th>\n",
       "      <td>43</td>\n",
       "      <td>Hajime no IppoTV (75 eps)Oct 2000 - Mar 200255...</td>\n",
       "      <td>8.76</td>\n",
       "      <td>75</td>\n",
       "      <td>Oct 2000 - Mar 2002</td>\n",
       "      <td>Hajime no IppoTV</td>\n",
       "    </tr>\n",
       "    <tr>\n",
       "      <th>11</th>\n",
       "      <td>12</td>\n",
       "      <td>Ginga Eiyuu DensetsuOVA (110 eps)Jan 1988 - Ma...</td>\n",
       "      <td>9.02</td>\n",
       "      <td>110</td>\n",
       "      <td>Jan 1988 - Mar 1997</td>\n",
       "      <td>Ginga Eiyuu DensetsuOVA</td>\n",
       "    </tr>\n",
       "    <tr>\n",
       "      <th>7</th>\n",
       "      <td>8</td>\n",
       "      <td>Hunter x Hunter TV (148 eps)Oct 2011 - Sep 201...</td>\n",
       "      <td>9.04</td>\n",
       "      <td>148</td>\n",
       "      <td>Oct 2011 - Sep 2014</td>\n",
       "      <td>Hunter x Hunter TV</td>\n",
       "    </tr>\n",
       "    <tr>\n",
       "      <th>15</th>\n",
       "      <td>16</td>\n",
       "      <td>GintamaTV (201 eps)Apr 2006 - Mar 20101,034,41...</td>\n",
       "      <td>8.94</td>\n",
       "      <td>201</td>\n",
       "      <td>Apr 2006 - Mar 2010</td>\n",
       "      <td>GintamaTV</td>\n",
       "    </tr>\n",
       "  </tbody>\n",
       "</table>\n",
       "</div>"
      ],
      "text/plain": [
       "    Rank                                              Title  Score  Episodes  \\\n",
       "24    25  MonsterTV (74 eps)Apr 2004 - Sep 20051,041,081...   8.87        74   \n",
       "42    43  Hajime no IppoTV (75 eps)Oct 2000 - Mar 200255...   8.76        75   \n",
       "11    12  Ginga Eiyuu DensetsuOVA (110 eps)Jan 1988 - Ma...   9.02       110   \n",
       "7      8  Hunter x Hunter TV (148 eps)Oct 2011 - Sep 201...   9.04       148   \n",
       "15    16  GintamaTV (201 eps)Apr 2006 - Mar 20101,034,41...   8.94       201   \n",
       "\n",
       "          Airing_period                Anime Name  \n",
       "24  Apr 2004 - Sep 2005                MonsterTV   \n",
       "42  Oct 2000 - Mar 2002         Hajime no IppoTV   \n",
       "11  Jan 1988 - Mar 1997  Ginga Eiyuu DensetsuOVA   \n",
       "7   Oct 2011 - Sep 2014       Hunter x Hunter TV   \n",
       "15  Apr 2006 - Mar 2010                GintamaTV   "
      ]
     },
     "execution_count": 55,
     "metadata": {},
     "output_type": "execute_result"
    }
   ],
   "source": [
    "df_sorted.tail()             #the top five episodes count "
   ]
  },
  {
   "cell_type": "code",
   "execution_count": null,
   "id": "9fec9d61-865b-45f8-bb4a-86b898f2c7fd",
   "metadata": {},
   "outputs": [],
   "source": []
  }
 ],
 "metadata": {
  "kernelspec": {
   "display_name": "Python 3 (ipykernel)",
   "language": "python",
   "name": "python3"
  },
  "language_info": {
   "codemirror_mode": {
    "name": "ipython",
    "version": 3
   },
   "file_extension": ".py",
   "mimetype": "text/x-python",
   "name": "python",
   "nbconvert_exporter": "python",
   "pygments_lexer": "ipython3",
   "version": "3.13.5"
  }
 },
 "nbformat": 4,
 "nbformat_minor": 5
}
